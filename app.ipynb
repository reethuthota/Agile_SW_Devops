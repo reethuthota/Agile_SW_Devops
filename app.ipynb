{
 "cells": [
  {
   "cell_type": "code",
   "execution_count": 2,
   "metadata": {},
   "outputs": [
    {
     "name": "stdout",
     "output_type": "stream",
     "text": [
      " * Serving Flask app '__main__'\n",
      " * Debug mode: off\n"
     ]
    },
    {
     "name": "stderr",
     "output_type": "stream",
     "text": [
      "WARNING: This is a development server. Do not use it in a production deployment. Use a production WSGI server instead.\n",
      " * Running on http://127.0.0.1:5000\n",
      "Press CTRL+C to quit\n",
      "127.0.0.1 - - [25/Oct/2023 10:29:26] \"GET / HTTP/1.1\" 200 -\n",
      "127.0.0.1 - - [25/Oct/2023 10:29:26] \"GET /favicon.ico HTTP/1.1\" 404 -\n",
      "127.0.0.1 - - [25/Oct/2023 10:29:26] \"GET /apple-touch-icon-precomposed.png HTTP/1.1\" 404 -\n",
      "127.0.0.1 - - [25/Oct/2023 10:29:26] \"GET /apple-touch-icon.png HTTP/1.1\" 404 -\n",
      "127.0.0.1 - - [25/Oct/2023 10:29:26] \"GET / HTTP/1.1\" 200 -\n",
      "127.0.0.1 - - [25/Oct/2023 10:29:26] \"GET /apple-touch-icon-precomposed.png HTTP/1.1\" 404 -\n",
      "127.0.0.1 - - [25/Oct/2023 10:29:26] \"GET /apple-touch-icon.png HTTP/1.1\" 404 -\n",
      "127.0.0.1 - - [25/Oct/2023 10:29:26] \"GET /favicon.ico HTTP/1.1\" 404 -\n",
      "127.0.0.1 - - [25/Oct/2023 10:29:26] \"GET /apple-touch-icon-precomposed.png HTTP/1.1\" 404 -\n",
      "127.0.0.1 - - [25/Oct/2023 10:29:26] \"GET /apple-touch-icon.png HTTP/1.1\" 404 -\n",
      "127.0.0.1 - - [25/Oct/2023 10:29:26] \"GET /favicon.ico HTTP/1.1\" 404 -\n",
      "127.0.0.1 - - [25/Oct/2023 10:29:26] \"GET / HTTP/1.1\" 200 -\n",
      "127.0.0.1 - - [25/Oct/2023 10:29:26] \"GET /apple-touch-icon-precomposed.png HTTP/1.1\" 404 -\n",
      "127.0.0.1 - - [25/Oct/2023 10:29:26] \"GET /apple-touch-icon.png HTTP/1.1\" 404 -\n",
      "127.0.0.1 - - [25/Oct/2023 10:29:26] \"GET /favicon.ico HTTP/1.1\" 404 -\n",
      "127.0.0.1 - - [25/Oct/2023 10:29:26] \"GET /apple-touch-icon-precomposed.png HTTP/1.1\" 404 -\n",
      "127.0.0.1 - - [25/Oct/2023 10:29:26] \"GET /apple-touch-icon.png HTTP/1.1\" 404 -\n",
      "127.0.0.1 - - [25/Oct/2023 10:29:26] \"GET /favicon.ico HTTP/1.1\" 404 -\n"
     ]
    }
   ],
   "source": [
    "# Importing flask module in the project is mandatory\n",
    "# An object of Flask class is our WSGI application.\n",
    "from flask import Flask\n",
    "\n",
    "# Flask constructor takes the name of \n",
    "# current module (_name_) as argument.\n",
    "app = Flask(__name__)\n",
    "\n",
    "# The route() function of the Flask class is a decorator, \n",
    "# which tells the application which URL should call \n",
    "# the associated function.\n",
    "@app.route('/')\n",
    "# ‘/’ URL is bound with hello_world() function.\n",
    "def hello_world():\n",
    "\treturn 'Hello World'\n",
    "\n",
    "# main driver function\n",
    "if __name__ == '__main__':\n",
    "\n",
    "\t# run() method of Flask class runs the application \n",
    "\t# on the local development server.\n",
    "\tapp.run()"
   ]
  }
 ],
 "metadata": {
  "kernelspec": {
   "display_name": "base",
   "language": "python",
   "name": "python3"
  },
  "language_info": {
   "codemirror_mode": {
    "name": "ipython",
    "version": 3
   },
   "file_extension": ".py",
   "mimetype": "text/x-python",
   "name": "python",
   "nbconvert_exporter": "python",
   "pygments_lexer": "ipython3",
   "version": "3.11.3"
  }
 },
 "nbformat": 4,
 "nbformat_minor": 2
}
