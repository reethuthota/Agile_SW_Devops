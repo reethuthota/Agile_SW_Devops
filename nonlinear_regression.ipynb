{
 "cells": [
  {
   "cell_type": "code",
   "execution_count": 2,
   "metadata": {},
   "outputs": [
    {
     "name": "stdout",
     "output_type": "stream",
     "text": [
      "[109.]\n",
      "[400.]\n"
     ]
    }
   ],
   "source": [
    "import pandas as pd\n",
    "x=[[4.0],[5.0],[6.0],[7.0],[8.0],[9.0],[10.0]]\n",
    "y=[ 16, 25, 36, 49, 64, 81, 100]\n",
    "# Step 2 - Fitting Linear Regression\n",
    "from sklearn.linear_model import LinearRegression\n",
    "lin_reg = LinearRegression()\n",
    "lin_reg.fit(x,y)\n",
    "# Step 4 Linear Regression prediction\n",
    "print(lin_reg.predict([[11]])) #supposed to be wrong as linear regression cannot predict it\n",
    "from sklearn.pipeline import make_pipeline\n",
    "from sklearn.preprocessing import PolynomialFeatures\n",
    "polynomial_regression = make_pipeline(\n",
    "PolynomialFeatures(degree=2, include_bias=False),\n",
    "LinearRegression(),\n",
    ")\n",
    "polynomial_regression.fit(x,y)\n",
    "X_height=[[20.0]]\n",
    "target_predicted = polynomial_regression.predict(X_height)\n",
    "print(target_predicted)"
   ]
  }
 ],
 "metadata": {
  "kernelspec": {
   "display_name": "base",
   "language": "python",
   "name": "python3"
  },
  "language_info": {
   "codemirror_mode": {
    "name": "ipython",
    "version": 3
   },
   "file_extension": ".py",
   "mimetype": "text/x-python",
   "name": "python",
   "nbconvert_exporter": "python",
   "pygments_lexer": "ipython3",
   "version": "3.11.3"
  },
  "orig_nbformat": 4
 },
 "nbformat": 4,
 "nbformat_minor": 2
}
